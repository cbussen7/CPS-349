{
  "nbformat": 4,
  "nbformat_minor": 0,
  "metadata": {
    "colab": {
      "provenance": []
    },
    "kernelspec": {
      "name": "python3",
      "display_name": "Python 3"
    },
    "language_info": {
      "name": "python"
    }
  },
  "cells": [
    {
      "cell_type": "code",
      "source": [
        "# import libraries\n",
        "import pandas as pd\n",
        "from google.colab import files"
      ],
      "metadata": {
        "id": "EUWyWa-Z8td-"
      },
      "execution_count": 1,
      "outputs": []
    },
    {
      "cell_type": "code",
      "source": [
        "# load in the datasets\n",
        "wordData1 = pd.read_csv(\"google-books-common-words.csv\")\n",
        "wordData2 = pd.read_csv(\"kaggle_freq.csv\")\n",
        "wordData3 = pd.read_csv(\"wordFrequency.csv\")\n",
        "\n",
        "# words in 1st dataset are all caps - change to lower case\n",
        "wordData1[\"word\"] = wordData1[\"word\"].str.lower()"
      ],
      "metadata": {
        "id": "YO_XrWEL84t9"
      },
      "execution_count": 2,
      "outputs": []
    },
    {
      "cell_type": "code",
      "execution_count": 3,
      "metadata": {
        "id": "kBx_Jwwv8lw7"
      },
      "outputs": [],
      "source": [
        "# create combined dataset by merging 3 smaller ones\n",
        "combinedData = pd.merge(wordData1, wordData2, on=\"word\", how=\"outer\").fillna(0)\n",
        "combinedData['frequency'] = combinedData['frequency_x'] + combinedData['frequency_y']\n",
        "combinedData = combinedData[['word', 'frequency']]\n",
        "\n",
        "# print(combinedData.head(10))\n",
        "\n",
        "# used this to test if first two datasets merged properly\n",
        "# combinedData.to_csv('combinedWordFrequencies.csv')\n",
        "# from google.colab import files\n",
        "# files.download('combinedWordFrequencies.csv')\n",
        "\n",
        "# now merge with last one\n",
        "combinedData = pd.merge(combinedData, wordData3, on=\"word\", how=\"outer\").fillna(0)\n",
        "combinedData['frequency'] = combinedData['frequency_x'] + combinedData['frequency_y']\n",
        "combinedData = combinedData[['word', 'frequency']]\n",
        "combinedData = combinedData.groupby('word')\n",
        "\n",
        "# print(combinedData.head(10))\n",
        "\n",
        "# APPROACH 2\n",
        "# combinedData = wordData3.merge(wordData1, on=\"word\", how=\"left\").merge(wordData2, on='word', how='left').fillna(0)\n",
        "# combinedData['frequency'] = combinedData['frequency_x'] + combinedData['frequency_y'] + combinedData['frequency']\n",
        "# combinedData = combinedData[['word', 'frequency']]\n",
        "# print(combinedData.head(10))"
      ]
    },
    {
      "cell_type": "code",
      "source": [
        "# save combined to computer and sort it\n",
        "combinedData.sum().sort_values('frequency', ascending=False).to_csv('combinedWordFrequencies.csv')\n",
        "files.download('combinedWordFrequencies.csv')"
      ],
      "metadata": {
        "colab": {
          "base_uri": "https://localhost:8080/",
          "height": 17
        },
        "id": "bG9Ddc8n882B",
        "outputId": "f144e422-2143-4ba2-f06f-23789c4c0a78"
      },
      "execution_count": 4,
      "outputs": [
        {
          "output_type": "display_data",
          "data": {
            "text/plain": [
              "<IPython.core.display.Javascript object>"
            ],
            "application/javascript": [
              "\n",
              "    async function download(id, filename, size) {\n",
              "      if (!google.colab.kernel.accessAllowed) {\n",
              "        return;\n",
              "      }\n",
              "      const div = document.createElement('div');\n",
              "      const label = document.createElement('label');\n",
              "      label.textContent = `Downloading \"${filename}\": `;\n",
              "      div.appendChild(label);\n",
              "      const progress = document.createElement('progress');\n",
              "      progress.max = size;\n",
              "      div.appendChild(progress);\n",
              "      document.body.appendChild(div);\n",
              "\n",
              "      const buffers = [];\n",
              "      let downloaded = 0;\n",
              "\n",
              "      const channel = await google.colab.kernel.comms.open(id);\n",
              "      // Send a message to notify the kernel that we're ready.\n",
              "      channel.send({})\n",
              "\n",
              "      for await (const message of channel.messages) {\n",
              "        // Send a message to notify the kernel that we're ready.\n",
              "        channel.send({})\n",
              "        if (message.buffers) {\n",
              "          for (const buffer of message.buffers) {\n",
              "            buffers.push(buffer);\n",
              "            downloaded += buffer.byteLength;\n",
              "            progress.value = downloaded;\n",
              "          }\n",
              "        }\n",
              "      }\n",
              "      const blob = new Blob(buffers, {type: 'application/binary'});\n",
              "      const a = document.createElement('a');\n",
              "      a.href = window.URL.createObjectURL(blob);\n",
              "      a.download = filename;\n",
              "      div.appendChild(a);\n",
              "      a.click();\n",
              "      div.remove();\n",
              "    }\n",
              "  "
            ]
          },
          "metadata": {}
        },
        {
          "output_type": "display_data",
          "data": {
            "text/plain": [
              "<IPython.core.display.Javascript object>"
            ],
            "application/javascript": [
              "download(\"download_11e7b9c2-dcf4-4e4a-8679-36e8409cd8ba\", \"combinedWordFrequencies.csv\", 5753602)"
            ]
          },
          "metadata": {}
        }
      ]
    }
  ]
}