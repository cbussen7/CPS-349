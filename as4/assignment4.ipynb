{
  "nbformat": 4,
  "nbformat_minor": 0,
  "metadata": {
    "colab": {
      "provenance": []
    },
    "kernelspec": {
      "name": "python3",
      "display_name": "Python 3"
    },
    "language_info": {
      "name": "python"
    }
  },
  "cells": [
    {
      "cell_type": "code",
      "execution_count": 56,
      "metadata": {
        "id": "04TMzCbGxNUn"
      },
      "outputs": [],
      "source": [
        "# import libraries\n",
        "import sklearn as sk\n",
        "from sklearn.model_selection import train_test_split\n",
        "\n",
        "# for decision tree\n",
        "from sklearn.tree import DecisionTreeClassifier\n",
        "from sklearn.tree import plot_tree\n",
        "from sklearn.tree import export_graphviz\n",
        "import graphviz\n",
        "\n",
        "# for KNN\n",
        "from sklearn.neighbors import KNeighborsClassifier\n",
        "\n",
        "# for random forest\n",
        "from sklearn.ensemble import RandomForestClassifier\n",
        "\n",
        "from sklearn import metrics\n",
        "from sklearn.metrics import confusion_matrix\n",
        "import matplotlib.pyplot as plt\n",
        "import pandas as pd\n",
        "from google.colab import files"
      ]
    },
    {
      "cell_type": "code",
      "source": [
        "# read dataset and look at general structure\n",
        "heart = pd.read_csv(\"heart.csv\")\n",
        "\n",
        "print(heart.info())\n",
        "\n",
        "# split into data and target\n",
        "# last column of heart dataset is target variable - 0 for no heart disease, 1 if present\n",
        "x, y = heart[heart.columns[1:12]], heart[heart.columns[12]]"
      ],
      "metadata": {
        "colab": {
          "base_uri": "https://localhost:8080/"
        },
        "id": "hjzuGSjryZJP",
        "outputId": "b167a905-6cd8-4d58-b3a2-6cb9803165b6"
      },
      "execution_count": 53,
      "outputs": [
        {
          "output_type": "stream",
          "name": "stdout",
          "text": [
            "<class 'pandas.core.frame.DataFrame'>\n",
            "RangeIndex: 918 entries, 0 to 917\n",
            "Data columns (total 13 columns):\n",
            " #   Column          Non-Null Count  Dtype  \n",
            "---  ------          --------------  -----  \n",
            " 0   Unnamed: 0      918 non-null    int64  \n",
            " 1   Age             918 non-null    int64  \n",
            " 2   Sex             918 non-null    int64  \n",
            " 3   ChestPainType   918 non-null    int64  \n",
            " 4   RestingBP       918 non-null    int64  \n",
            " 5   Cholesterol     918 non-null    int64  \n",
            " 6   FastingBS       918 non-null    int64  \n",
            " 7   RestingECG      918 non-null    int64  \n",
            " 8   MaxHR           918 non-null    int64  \n",
            " 9   ExerciseAngina  918 non-null    int64  \n",
            " 10  Oldpeak         918 non-null    float64\n",
            " 11  ST_Slope        918 non-null    int64  \n",
            " 12  HeartDisease    918 non-null    int64  \n",
            "dtypes: float64(1), int64(12)\n",
            "memory usage: 93.4 KB\n",
            "None\n"
          ]
        }
      ]
    },
    {
      "cell_type": "code",
      "source": [
        "# create train/test 75/25 split among data\n",
        "x_train, x_test, y_train, y_test = train_test_split(x, y, test_size = 0.25, random_state = 42)\n",
        "\n",
        "# save train and test sets to local machine\n",
        "# x_train.to_csv('data_train.csv')\n",
        "# x_test.to_csv('data_test.csv')\n",
        "# y_train.to_csv('target_train.csv')\n",
        "# y_test.to_csv('target_test.csv')\n",
        "\n",
        "# files.download('data_train.csv')\n",
        "# files.download('data_test.csv')\n",
        "# files.download('target_train.csv')\n",
        "# files.download('target_test.csv')"
      ],
      "metadata": {
        "id": "5_zrtmkL1OV-"
      },
      "execution_count": 54,
      "outputs": []
    },
    {
      "cell_type": "code",
      "source": [
        "# CREATE THE DECISION TREE\n",
        "tree = DecisionTreeClassifier(max_depth=4)\n",
        "#train the classifier\n",
        "tree.fit(x_train,y_train)\n",
        "\n",
        "# visualize the tree\n",
        "# plot_tree(tree, feature_names=heart.columns[0:12])\n",
        "\n",
        "# visualize tree better using graphviz\n",
        "dot_data = export_graphviz(\n",
        "    tree,\n",
        "    out_file=None,\n",
        "    feature_names=heart.columns[1:12],\n",
        "    class_names=['0', '1'],\n",
        "    rounded=True,\n",
        "    filled=True,\n",
        "    special_characters=True\n",
        ")\n",
        "\n",
        "graph = graphviz.Source(dot_data)\n",
        "graph"
      ],
      "metadata": {
        "id": "AWB3YzxG6dvu",
        "colab": {
          "base_uri": "https://localhost:8080/",
          "height": 777
        },
        "outputId": "c27e8d01-aead-46cd-9738-e14507248f19"
      },
      "execution_count": 110,
      "outputs": [
        {
          "output_type": "execute_result",
          "data": {
            "image/svg+xml": "<?xml version=\"1.0\" encoding=\"UTF-8\" standalone=\"no\"?>\n<!DOCTYPE svg PUBLIC \"-//W3C//DTD SVG 1.1//EN\"\n \"http://www.w3.org/Graphics/SVG/1.1/DTD/svg11.dtd\">\n<!-- Generated by graphviz version 2.43.0 (0)\n -->\n<!-- Title: Tree Pages: 1 -->\n<svg width=\"1674pt\" height=\"552pt\"\n viewBox=\"0.00 0.00 1673.50 552.00\" xmlns=\"http://www.w3.org/2000/svg\" xmlns:xlink=\"http://www.w3.org/1999/xlink\">\n<g id=\"graph0\" class=\"graph\" transform=\"scale(1 1) rotate(0) translate(4 548)\">\n<title>Tree</title>\n<polygon fill=\"white\" stroke=\"transparent\" points=\"-4,4 -4,-548 1669.5,-548 1669.5,4 -4,4\"/>\n<!-- 0 -->\n<g id=\"node1\" class=\"node\">\n<title>0</title>\n<path fill=\"#ddeefb\" stroke=\"black\" d=\"M947.5,-544C947.5,-544 846.5,-544 846.5,-544 840.5,-544 834.5,-538 834.5,-532 834.5,-532 834.5,-473 834.5,-473 834.5,-467 840.5,-461 846.5,-461 846.5,-461 947.5,-461 947.5,-461 953.5,-461 959.5,-467 959.5,-473 959.5,-473 959.5,-532 959.5,-532 959.5,-538 953.5,-544 947.5,-544\"/>\n<text text-anchor=\"start\" x=\"850\" y=\"-528.8\" font-family=\"Helvetica,sans-Serif\" font-size=\"14.00\">ST_Slope ≤ 1.5</text>\n<text text-anchor=\"start\" x=\"861.5\" y=\"-513.8\" font-family=\"Helvetica,sans-Serif\" font-size=\"14.00\">gini = 0.496</text>\n<text text-anchor=\"start\" x=\"852\" y=\"-498.8\" font-family=\"Helvetica,sans-Serif\" font-size=\"14.00\">samples = 688</text>\n<text text-anchor=\"start\" x=\"842.5\" y=\"-483.8\" font-family=\"Helvetica,sans-Serif\" font-size=\"14.00\">value = [312, 376]</text>\n<text text-anchor=\"start\" x=\"869.5\" y=\"-468.8\" font-family=\"Helvetica,sans-Serif\" font-size=\"14.00\">class = 1</text>\n</g>\n<!-- 1 -->\n<g id=\"node2\" class=\"node\">\n<title>1</title>\n<path fill=\"#66b3eb\" stroke=\"black\" d=\"M775,-425C775,-425 657,-425 657,-425 651,-425 645,-419 645,-413 645,-413 645,-354 645,-354 645,-348 651,-342 657,-342 657,-342 775,-342 775,-342 781,-342 787,-348 787,-354 787,-354 787,-413 787,-413 787,-419 781,-425 775,-425\"/>\n<text text-anchor=\"start\" x=\"653\" y=\"-409.8\" font-family=\"Helvetica,sans-Serif\" font-size=\"14.00\">ChestPainType ≤ 0.5</text>\n<text text-anchor=\"start\" x=\"680.5\" y=\"-394.8\" font-family=\"Helvetica,sans-Serif\" font-size=\"14.00\">gini = 0.302</text>\n<text text-anchor=\"start\" x=\"671\" y=\"-379.8\" font-family=\"Helvetica,sans-Serif\" font-size=\"14.00\">samples = 399</text>\n<text text-anchor=\"start\" x=\"665.5\" y=\"-364.8\" font-family=\"Helvetica,sans-Serif\" font-size=\"14.00\">value = [74, 325]</text>\n<text text-anchor=\"start\" x=\"688.5\" y=\"-349.8\" font-family=\"Helvetica,sans-Serif\" font-size=\"14.00\">class = 1</text>\n</g>\n<!-- 0&#45;&gt;1 -->\n<g id=\"edge1\" class=\"edge\">\n<title>0&#45;&gt;1</title>\n<path fill=\"none\" stroke=\"black\" d=\"M834.46,-461.07C819.28,-451.26 802.95,-440.7 787.4,-430.65\"/>\n<polygon fill=\"black\" stroke=\"black\" points=\"789.15,-427.62 778.85,-425.13 785.35,-433.5 789.15,-427.62\"/>\n<text text-anchor=\"middle\" x=\"784.1\" y=\"-445.87\" font-family=\"Helvetica,sans-Serif\" font-size=\"14.00\">True</text>\n</g>\n<!-- 16 -->\n<g id=\"node17\" class=\"node\">\n<title>16</title>\n<path fill=\"#eb9c63\" stroke=\"black\" d=\"M1152,-425C1152,-425 1050,-425 1050,-425 1044,-425 1038,-419 1038,-413 1038,-413 1038,-354 1038,-354 1038,-348 1044,-342 1050,-342 1050,-342 1152,-342 1152,-342 1158,-342 1164,-348 1164,-354 1164,-354 1164,-413 1164,-413 1164,-419 1158,-425 1152,-425\"/>\n<text text-anchor=\"start\" x=\"1046\" y=\"-409.8\" font-family=\"Helvetica,sans-Serif\" font-size=\"14.00\">Cholesterol ≤ 42.5</text>\n<text text-anchor=\"start\" x=\"1065.5\" y=\"-394.8\" font-family=\"Helvetica,sans-Serif\" font-size=\"14.00\">gini = 0.291</text>\n<text text-anchor=\"start\" x=\"1056\" y=\"-379.8\" font-family=\"Helvetica,sans-Serif\" font-size=\"14.00\">samples = 289</text>\n<text text-anchor=\"start\" x=\"1050.5\" y=\"-364.8\" font-family=\"Helvetica,sans-Serif\" font-size=\"14.00\">value = [238, 51]</text>\n<text text-anchor=\"start\" x=\"1073.5\" y=\"-349.8\" font-family=\"Helvetica,sans-Serif\" font-size=\"14.00\">class = 0</text>\n</g>\n<!-- 0&#45;&gt;16 -->\n<g id=\"edge16\" class=\"edge\">\n<title>0&#45;&gt;16</title>\n<path fill=\"none\" stroke=\"black\" d=\"M959.59,-465.6C981.51,-453.03 1006.3,-438.81 1028.93,-425.83\"/>\n<polygon fill=\"black\" stroke=\"black\" points=\"1030.89,-428.75 1037.82,-420.73 1027.41,-422.67 1030.89,-428.75\"/>\n<text text-anchor=\"middle\" x=\"1031.28\" y=\"-441.16\" font-family=\"Helvetica,sans-Serif\" font-size=\"14.00\">False</text>\n</g>\n<!-- 2 -->\n<g id=\"node3\" class=\"node\">\n<title>2</title>\n<path fill=\"#4ea7e8\" stroke=\"black\" d=\"M409.5,-306C409.5,-306 316.5,-306 316.5,-306 310.5,-306 304.5,-300 304.5,-294 304.5,-294 304.5,-235 304.5,-235 304.5,-229 310.5,-223 316.5,-223 316.5,-223 409.5,-223 409.5,-223 415.5,-223 421.5,-229 421.5,-235 421.5,-235 421.5,-294 421.5,-294 421.5,-300 415.5,-306 409.5,-306\"/>\n<text text-anchor=\"start\" x=\"334\" y=\"-290.8\" font-family=\"Helvetica,sans-Serif\" font-size=\"14.00\">Sex ≤ 0.5</text>\n<text text-anchor=\"start\" x=\"331\" y=\"-275.8\" font-family=\"Helvetica,sans-Serif\" font-size=\"14.00\">gini = 0.17</text>\n<text text-anchor=\"start\" x=\"318\" y=\"-260.8\" font-family=\"Helvetica,sans-Serif\" font-size=\"14.00\">samples = 277</text>\n<text text-anchor=\"start\" x=\"312.5\" y=\"-245.8\" font-family=\"Helvetica,sans-Serif\" font-size=\"14.00\">value = [26, 251]</text>\n<text text-anchor=\"start\" x=\"335.5\" y=\"-230.8\" font-family=\"Helvetica,sans-Serif\" font-size=\"14.00\">class = 1</text>\n</g>\n<!-- 1&#45;&gt;2 -->\n<g id=\"edge2\" class=\"edge\">\n<title>1&#45;&gt;2</title>\n<path fill=\"none\" stroke=\"black\" d=\"M644.99,-358.96C582.69,-338.31 492.69,-308.48 431.23,-288.11\"/>\n<polygon fill=\"black\" stroke=\"black\" points=\"432.21,-284.75 421.62,-284.93 430.01,-291.4 432.21,-284.75\"/>\n</g>\n<!-- 9 -->\n<g id=\"node10\" class=\"node\">\n<title>9</title>\n<path fill=\"#b9ddf6\" stroke=\"black\" d=\"M759,-306C759,-306 673,-306 673,-306 667,-306 661,-300 661,-294 661,-294 661,-235 661,-235 661,-229 667,-223 673,-223 673,-223 759,-223 759,-223 765,-223 771,-229 771,-235 771,-235 771,-294 771,-294 771,-300 765,-306 759,-306\"/>\n<text text-anchor=\"start\" x=\"687\" y=\"-290.8\" font-family=\"Helvetica,sans-Serif\" font-size=\"14.00\">Sex ≤ 0.5</text>\n<text text-anchor=\"start\" x=\"680.5\" y=\"-275.8\" font-family=\"Helvetica,sans-Serif\" font-size=\"14.00\">gini = 0.477</text>\n<text text-anchor=\"start\" x=\"671\" y=\"-260.8\" font-family=\"Helvetica,sans-Serif\" font-size=\"14.00\">samples = 122</text>\n<text text-anchor=\"start\" x=\"669\" y=\"-245.8\" font-family=\"Helvetica,sans-Serif\" font-size=\"14.00\">value = [48, 74]</text>\n<text text-anchor=\"start\" x=\"688.5\" y=\"-230.8\" font-family=\"Helvetica,sans-Serif\" font-size=\"14.00\">class = 1</text>\n</g>\n<!-- 1&#45;&gt;9 -->\n<g id=\"edge9\" class=\"edge\">\n<title>1&#45;&gt;9</title>\n<path fill=\"none\" stroke=\"black\" d=\"M716,-341.91C716,-333.65 716,-324.86 716,-316.3\"/>\n<polygon fill=\"black\" stroke=\"black\" points=\"719.5,-316.02 716,-306.02 712.5,-316.02 719.5,-316.02\"/>\n</g>\n<!-- 3 -->\n<g id=\"node4\" class=\"node\">\n<title>3</title>\n<path fill=\"#74baed\" stroke=\"black\" d=\"M213.5,-187C213.5,-187 128.5,-187 128.5,-187 122.5,-187 116.5,-181 116.5,-175 116.5,-175 116.5,-116 116.5,-116 116.5,-110 122.5,-104 128.5,-104 128.5,-104 213.5,-104 213.5,-104 219.5,-104 225.5,-110 225.5,-116 225.5,-116 225.5,-175 225.5,-175 225.5,-181 219.5,-187 213.5,-187\"/>\n<text text-anchor=\"start\" x=\"124.5\" y=\"-171.8\" font-family=\"Helvetica,sans-Serif\" font-size=\"14.00\">Oldpeak ≤ 1.05</text>\n<text text-anchor=\"start\" x=\"135.5\" y=\"-156.8\" font-family=\"Helvetica,sans-Serif\" font-size=\"14.00\">gini = 0.355</text>\n<text text-anchor=\"start\" x=\"130\" y=\"-141.8\" font-family=\"Helvetica,sans-Serif\" font-size=\"14.00\">samples = 39</text>\n<text text-anchor=\"start\" x=\"128\" y=\"-126.8\" font-family=\"Helvetica,sans-Serif\" font-size=\"14.00\">value = [9, 30]</text>\n<text text-anchor=\"start\" x=\"143.5\" y=\"-111.8\" font-family=\"Helvetica,sans-Serif\" font-size=\"14.00\">class = 1</text>\n</g>\n<!-- 2&#45;&gt;3 -->\n<g id=\"edge3\" class=\"edge\">\n<title>2&#45;&gt;3</title>\n<path fill=\"none\" stroke=\"black\" d=\"M304.35,-227.76C282.25,-214.29 257.02,-198.92 234.5,-185.19\"/>\n<polygon fill=\"black\" stroke=\"black\" points=\"236.05,-182.04 225.69,-179.82 232.4,-188.02 236.05,-182.04\"/>\n</g>\n<!-- 6 -->\n<g id=\"node7\" class=\"node\">\n<title>6</title>\n<path fill=\"#48a5e7\" stroke=\"black\" d=\"M409.5,-187C409.5,-187 316.5,-187 316.5,-187 310.5,-187 304.5,-181 304.5,-175 304.5,-175 304.5,-116 304.5,-116 304.5,-110 310.5,-104 316.5,-104 316.5,-104 409.5,-104 409.5,-104 415.5,-104 421.5,-110 421.5,-116 421.5,-116 421.5,-175 421.5,-175 421.5,-181 415.5,-187 409.5,-187\"/>\n<text text-anchor=\"start\" x=\"315.5\" y=\"-171.8\" font-family=\"Helvetica,sans-Serif\" font-size=\"14.00\">MaxHR ≤ 175.5</text>\n<text text-anchor=\"start\" x=\"327.5\" y=\"-156.8\" font-family=\"Helvetica,sans-Serif\" font-size=\"14.00\">gini = 0.133</text>\n<text text-anchor=\"start\" x=\"318\" y=\"-141.8\" font-family=\"Helvetica,sans-Serif\" font-size=\"14.00\">samples = 238</text>\n<text text-anchor=\"start\" x=\"312.5\" y=\"-126.8\" font-family=\"Helvetica,sans-Serif\" font-size=\"14.00\">value = [17, 221]</text>\n<text text-anchor=\"start\" x=\"335.5\" y=\"-111.8\" font-family=\"Helvetica,sans-Serif\" font-size=\"14.00\">class = 1</text>\n</g>\n<!-- 2&#45;&gt;6 -->\n<g id=\"edge6\" class=\"edge\">\n<title>2&#45;&gt;6</title>\n<path fill=\"none\" stroke=\"black\" d=\"M363,-222.91C363,-214.65 363,-205.86 363,-197.3\"/>\n<polygon fill=\"black\" stroke=\"black\" points=\"366.5,-197.02 363,-187.02 359.5,-197.02 366.5,-197.02\"/>\n</g>\n<!-- 4 -->\n<g id=\"node5\" class=\"node\">\n<title>4</title>\n<path fill=\"#b3d9f5\" stroke=\"black\" d=\"M90,-68C90,-68 12,-68 12,-68 6,-68 0,-62 0,-56 0,-56 0,-12 0,-12 0,-6 6,0 12,0 12,0 90,0 90,0 96,0 102,-6 102,-12 102,-12 102,-56 102,-56 102,-62 96,-68 90,-68\"/>\n<text text-anchor=\"start\" x=\"15.5\" y=\"-52.8\" font-family=\"Helvetica,sans-Serif\" font-size=\"14.00\">gini = 0.472</text>\n<text text-anchor=\"start\" x=\"10\" y=\"-37.8\" font-family=\"Helvetica,sans-Serif\" font-size=\"14.00\">samples = 21</text>\n<text text-anchor=\"start\" x=\"8\" y=\"-22.8\" font-family=\"Helvetica,sans-Serif\" font-size=\"14.00\">value = [8, 13]</text>\n<text text-anchor=\"start\" x=\"23.5\" y=\"-7.8\" font-family=\"Helvetica,sans-Serif\" font-size=\"14.00\">class = 1</text>\n</g>\n<!-- 3&#45;&gt;4 -->\n<g id=\"edge4\" class=\"edge\">\n<title>3&#45;&gt;4</title>\n<path fill=\"none\" stroke=\"black\" d=\"M126.32,-103.73C116.12,-94.42 105.29,-84.54 95.12,-75.26\"/>\n<polygon fill=\"black\" stroke=\"black\" points=\"97.24,-72.45 87.49,-68.3 92.52,-77.63 97.24,-72.45\"/>\n</g>\n<!-- 5 -->\n<g id=\"node6\" class=\"node\">\n<title>5</title>\n<path fill=\"#45a3e7\" stroke=\"black\" d=\"M210,-68C210,-68 132,-68 132,-68 126,-68 120,-62 120,-56 120,-56 120,-12 120,-12 120,-6 126,0 132,0 132,0 210,0 210,0 216,0 222,-6 222,-12 222,-12 222,-56 222,-56 222,-62 216,-68 210,-68\"/>\n<text text-anchor=\"start\" x=\"135.5\" y=\"-52.8\" font-family=\"Helvetica,sans-Serif\" font-size=\"14.00\">gini = 0.105</text>\n<text text-anchor=\"start\" x=\"130\" y=\"-37.8\" font-family=\"Helvetica,sans-Serif\" font-size=\"14.00\">samples = 18</text>\n<text text-anchor=\"start\" x=\"128\" y=\"-22.8\" font-family=\"Helvetica,sans-Serif\" font-size=\"14.00\">value = [1, 17]</text>\n<text text-anchor=\"start\" x=\"143.5\" y=\"-7.8\" font-family=\"Helvetica,sans-Serif\" font-size=\"14.00\">class = 1</text>\n</g>\n<!-- 3&#45;&gt;5 -->\n<g id=\"edge5\" class=\"edge\">\n<title>3&#45;&gt;5</title>\n<path fill=\"none\" stroke=\"black\" d=\"M171,-103.73C171,-95.52 171,-86.86 171,-78.56\"/>\n<polygon fill=\"black\" stroke=\"black\" points=\"174.5,-78.3 171,-68.3 167.5,-78.3 174.5,-78.3\"/>\n</g>\n<!-- 7 -->\n<g id=\"node8\" class=\"node\">\n<title>7</title>\n<path fill=\"#47a4e7\" stroke=\"black\" d=\"M345.5,-68C345.5,-68 252.5,-68 252.5,-68 246.5,-68 240.5,-62 240.5,-56 240.5,-56 240.5,-12 240.5,-12 240.5,-6 246.5,0 252.5,0 252.5,0 345.5,0 345.5,0 351.5,0 357.5,-6 357.5,-12 357.5,-12 357.5,-56 357.5,-56 357.5,-62 351.5,-68 345.5,-68\"/>\n<text text-anchor=\"start\" x=\"263.5\" y=\"-52.8\" font-family=\"Helvetica,sans-Serif\" font-size=\"14.00\">gini = 0.126</text>\n<text text-anchor=\"start\" x=\"254\" y=\"-37.8\" font-family=\"Helvetica,sans-Serif\" font-size=\"14.00\">samples = 237</text>\n<text text-anchor=\"start\" x=\"248.5\" y=\"-22.8\" font-family=\"Helvetica,sans-Serif\" font-size=\"14.00\">value = [16, 221]</text>\n<text text-anchor=\"start\" x=\"271.5\" y=\"-7.8\" font-family=\"Helvetica,sans-Serif\" font-size=\"14.00\">class = 1</text>\n</g>\n<!-- 6&#45;&gt;7 -->\n<g id=\"edge7\" class=\"edge\">\n<title>6&#45;&gt;7</title>\n<path fill=\"none\" stroke=\"black\" d=\"M339.17,-103.73C334.1,-95.06 328.75,-85.9 323.65,-77.18\"/>\n<polygon fill=\"black\" stroke=\"black\" points=\"326.53,-75.17 318.46,-68.3 320.49,-78.7 326.53,-75.17\"/>\n</g>\n<!-- 8 -->\n<g id=\"node9\" class=\"node\">\n<title>8</title>\n<path fill=\"#e58139\" stroke=\"black\" d=\"M458.5,-68C458.5,-68 387.5,-68 387.5,-68 381.5,-68 375.5,-62 375.5,-56 375.5,-56 375.5,-12 375.5,-12 375.5,-6 381.5,0 387.5,0 387.5,0 458.5,0 458.5,0 464.5,0 470.5,-6 470.5,-12 470.5,-12 470.5,-56 470.5,-56 470.5,-62 464.5,-68 458.5,-68\"/>\n<text text-anchor=\"start\" x=\"395\" y=\"-52.8\" font-family=\"Helvetica,sans-Serif\" font-size=\"14.00\">gini = 0.0</text>\n<text text-anchor=\"start\" x=\"385.5\" y=\"-37.8\" font-family=\"Helvetica,sans-Serif\" font-size=\"14.00\">samples = 1</text>\n<text text-anchor=\"start\" x=\"383.5\" y=\"-22.8\" font-family=\"Helvetica,sans-Serif\" font-size=\"14.00\">value = [1, 0]</text>\n<text text-anchor=\"start\" x=\"395.5\" y=\"-7.8\" font-family=\"Helvetica,sans-Serif\" font-size=\"14.00\">class = 0</text>\n</g>\n<!-- 6&#45;&gt;8 -->\n<g id=\"edge8\" class=\"edge\">\n<title>6&#45;&gt;8</title>\n<path fill=\"none\" stroke=\"black\" d=\"M385.34,-103.73C390.09,-95.06 395.11,-85.9 399.89,-77.18\"/>\n<polygon fill=\"black\" stroke=\"black\" points=\"403.02,-78.75 404.75,-68.3 396.88,-75.39 403.02,-78.75\"/>\n</g>\n<!-- 10 -->\n<g id=\"node11\" class=\"node\">\n<title>10</title>\n<path fill=\"#eda774\" stroke=\"black\" d=\"M699.5,-187C699.5,-187 594.5,-187 594.5,-187 588.5,-187 582.5,-181 582.5,-175 582.5,-175 582.5,-116 582.5,-116 582.5,-110 588.5,-104 594.5,-104 594.5,-104 699.5,-104 699.5,-104 705.5,-104 711.5,-110 711.5,-116 711.5,-116 711.5,-175 711.5,-175 711.5,-181 705.5,-187 699.5,-187\"/>\n<text text-anchor=\"start\" x=\"590.5\" y=\"-171.8\" font-family=\"Helvetica,sans-Serif\" font-size=\"14.00\">RestingBP ≤ 155.0</text>\n<text text-anchor=\"start\" x=\"611.5\" y=\"-156.8\" font-family=\"Helvetica,sans-Serif\" font-size=\"14.00\">gini = 0.355</text>\n<text text-anchor=\"start\" x=\"606\" y=\"-141.8\" font-family=\"Helvetica,sans-Serif\" font-size=\"14.00\">samples = 26</text>\n<text text-anchor=\"start\" x=\"604\" y=\"-126.8\" font-family=\"Helvetica,sans-Serif\" font-size=\"14.00\">value = [20, 6]</text>\n<text text-anchor=\"start\" x=\"619.5\" y=\"-111.8\" font-family=\"Helvetica,sans-Serif\" font-size=\"14.00\">class = 0</text>\n</g>\n<!-- 9&#45;&gt;10 -->\n<g id=\"edge10\" class=\"edge\">\n<title>9&#45;&gt;10</title>\n<path fill=\"none\" stroke=\"black\" d=\"M692.06,-222.91C686.92,-214.2 681.44,-204.9 676.13,-195.89\"/>\n<polygon fill=\"black\" stroke=\"black\" points=\"678.99,-193.86 670.9,-187.02 672.96,-197.41 678.99,-193.86\"/>\n</g>\n<!-- 13 -->\n<g id=\"node14\" class=\"node\">\n<title>13</title>\n<path fill=\"#8bc5f0\" stroke=\"black\" d=\"M828.5,-187C828.5,-187 741.5,-187 741.5,-187 735.5,-187 729.5,-181 729.5,-175 729.5,-175 729.5,-116 729.5,-116 729.5,-110 735.5,-104 741.5,-104 741.5,-104 828.5,-104 828.5,-104 834.5,-104 840.5,-110 840.5,-116 840.5,-116 840.5,-175 840.5,-175 840.5,-181 834.5,-187 828.5,-187\"/>\n<text text-anchor=\"start\" x=\"737.5\" y=\"-171.8\" font-family=\"Helvetica,sans-Serif\" font-size=\"14.00\">MaxHR ≤ 136.5</text>\n<text text-anchor=\"start\" x=\"749.5\" y=\"-156.8\" font-family=\"Helvetica,sans-Serif\" font-size=\"14.00\">gini = 0.413</text>\n<text text-anchor=\"start\" x=\"744\" y=\"-141.8\" font-family=\"Helvetica,sans-Serif\" font-size=\"14.00\">samples = 96</text>\n<text text-anchor=\"start\" x=\"738\" y=\"-126.8\" font-family=\"Helvetica,sans-Serif\" font-size=\"14.00\">value = [28, 68]</text>\n<text text-anchor=\"start\" x=\"757.5\" y=\"-111.8\" font-family=\"Helvetica,sans-Serif\" font-size=\"14.00\">class = 1</text>\n</g>\n<!-- 9&#45;&gt;13 -->\n<g id=\"edge13\" class=\"edge\">\n<title>9&#45;&gt;13</title>\n<path fill=\"none\" stroke=\"black\" d=\"M739.94,-222.91C745.08,-214.2 750.56,-204.9 755.87,-195.89\"/>\n<polygon fill=\"black\" stroke=\"black\" points=\"759.04,-197.41 761.1,-187.02 753.01,-193.86 759.04,-197.41\"/>\n</g>\n<!-- 11 -->\n<g id=\"node12\" class=\"node\">\n<title>11</title>\n<path fill=\"#ea9a61\" stroke=\"black\" d=\"M579,-68C579,-68 501,-68 501,-68 495,-68 489,-62 489,-56 489,-56 489,-12 489,-12 489,-6 495,0 501,0 501,0 579,0 579,0 585,0 591,-6 591,-12 591,-12 591,-56 591,-56 591,-62 585,-68 579,-68\"/>\n<text text-anchor=\"start\" x=\"504.5\" y=\"-52.8\" font-family=\"Helvetica,sans-Serif\" font-size=\"14.00\">gini = 0.278</text>\n<text text-anchor=\"start\" x=\"499\" y=\"-37.8\" font-family=\"Helvetica,sans-Serif\" font-size=\"14.00\">samples = 24</text>\n<text text-anchor=\"start\" x=\"497\" y=\"-22.8\" font-family=\"Helvetica,sans-Serif\" font-size=\"14.00\">value = [20, 4]</text>\n<text text-anchor=\"start\" x=\"512.5\" y=\"-7.8\" font-family=\"Helvetica,sans-Serif\" font-size=\"14.00\">class = 0</text>\n</g>\n<!-- 10&#45;&gt;11 -->\n<g id=\"edge11\" class=\"edge\">\n<title>10&#45;&gt;11</title>\n<path fill=\"none\" stroke=\"black\" d=\"M607.16,-103.73C598.16,-94.51 588.6,-84.74 579.61,-75.53\"/>\n<polygon fill=\"black\" stroke=\"black\" points=\"582.03,-73.01 572.54,-68.3 577.03,-77.9 582.03,-73.01\"/>\n</g>\n<!-- 12 -->\n<g id=\"node13\" class=\"node\">\n<title>12</title>\n<path fill=\"#399de5\" stroke=\"black\" d=\"M692.5,-68C692.5,-68 621.5,-68 621.5,-68 615.5,-68 609.5,-62 609.5,-56 609.5,-56 609.5,-12 609.5,-12 609.5,-6 615.5,0 621.5,0 621.5,0 692.5,0 692.5,0 698.5,0 704.5,-6 704.5,-12 704.5,-12 704.5,-56 704.5,-56 704.5,-62 698.5,-68 692.5,-68\"/>\n<text text-anchor=\"start\" x=\"629\" y=\"-52.8\" font-family=\"Helvetica,sans-Serif\" font-size=\"14.00\">gini = 0.0</text>\n<text text-anchor=\"start\" x=\"619.5\" y=\"-37.8\" font-family=\"Helvetica,sans-Serif\" font-size=\"14.00\">samples = 2</text>\n<text text-anchor=\"start\" x=\"617.5\" y=\"-22.8\" font-family=\"Helvetica,sans-Serif\" font-size=\"14.00\">value = [0, 2]</text>\n<text text-anchor=\"start\" x=\"629.5\" y=\"-7.8\" font-family=\"Helvetica,sans-Serif\" font-size=\"14.00\">class = 1</text>\n</g>\n<!-- 10&#45;&gt;12 -->\n<g id=\"edge12\" class=\"edge\">\n<title>10&#45;&gt;12</title>\n<path fill=\"none\" stroke=\"black\" d=\"M650.72,-103.73C651.48,-95.43 652.28,-86.67 653.05,-78.28\"/>\n<polygon fill=\"black\" stroke=\"black\" points=\"656.53,-78.58 653.96,-68.3 649.56,-77.94 656.53,-78.58\"/>\n</g>\n<!-- 14 -->\n<g id=\"node15\" class=\"node\">\n<title>14</title>\n<path fill=\"#5caeea\" stroke=\"black\" d=\"M813,-68C813,-68 735,-68 735,-68 729,-68 723,-62 723,-56 723,-56 723,-12 723,-12 723,-6 729,0 735,0 735,0 813,0 813,0 819,0 825,-6 825,-12 825,-12 825,-56 825,-56 825,-62 819,-68 813,-68\"/>\n<text text-anchor=\"start\" x=\"738.5\" y=\"-52.8\" font-family=\"Helvetica,sans-Serif\" font-size=\"14.00\">gini = 0.254</text>\n<text text-anchor=\"start\" x=\"733\" y=\"-37.8\" font-family=\"Helvetica,sans-Serif\" font-size=\"14.00\">samples = 47</text>\n<text text-anchor=\"start\" x=\"731\" y=\"-22.8\" font-family=\"Helvetica,sans-Serif\" font-size=\"14.00\">value = [7, 40]</text>\n<text text-anchor=\"start\" x=\"746.5\" y=\"-7.8\" font-family=\"Helvetica,sans-Serif\" font-size=\"14.00\">class = 1</text>\n</g>\n<!-- 13&#45;&gt;14 -->\n<g id=\"edge14\" class=\"edge\">\n<title>13&#45;&gt;14</title>\n<path fill=\"none\" stroke=\"black\" d=\"M780.9,-103.73C780.07,-95.43 779.19,-86.67 778.35,-78.28\"/>\n<polygon fill=\"black\" stroke=\"black\" points=\"781.83,-77.9 777.35,-68.3 774.86,-78.6 781.83,-77.9\"/>\n</g>\n<!-- 15 -->\n<g id=\"node16\" class=\"node\">\n<title>15</title>\n<path fill=\"#cee6f8\" stroke=\"black\" d=\"M941,-68C941,-68 855,-68 855,-68 849,-68 843,-62 843,-56 843,-56 843,-12 843,-12 843,-6 849,0 855,0 855,0 941,0 941,0 947,0 953,-6 953,-12 953,-12 953,-56 953,-56 953,-62 947,-68 941,-68\"/>\n<text text-anchor=\"start\" x=\"866\" y=\"-52.8\" font-family=\"Helvetica,sans-Serif\" font-size=\"14.00\">gini = 0.49</text>\n<text text-anchor=\"start\" x=\"857\" y=\"-37.8\" font-family=\"Helvetica,sans-Serif\" font-size=\"14.00\">samples = 49</text>\n<text text-anchor=\"start\" x=\"851\" y=\"-22.8\" font-family=\"Helvetica,sans-Serif\" font-size=\"14.00\">value = [21, 28]</text>\n<text text-anchor=\"start\" x=\"870.5\" y=\"-7.8\" font-family=\"Helvetica,sans-Serif\" font-size=\"14.00\">class = 1</text>\n</g>\n<!-- 13&#45;&gt;15 -->\n<g id=\"edge15\" class=\"edge\">\n<title>13&#45;&gt;15</title>\n<path fill=\"none\" stroke=\"black\" d=\"M827.08,-103.73C836.68,-94.42 846.87,-84.54 856.45,-75.26\"/>\n<polygon fill=\"black\" stroke=\"black\" points=\"858.89,-77.77 863.64,-68.3 854.02,-72.75 858.89,-77.77\"/>\n</g>\n<!-- 17 -->\n<g id=\"node18\" class=\"node\">\n<title>17</title>\n<path fill=\"#92c9f1\" stroke=\"black\" d=\"M1145.5,-306C1145.5,-306 1056.5,-306 1056.5,-306 1050.5,-306 1044.5,-300 1044.5,-294 1044.5,-294 1044.5,-235 1044.5,-235 1044.5,-229 1050.5,-223 1056.5,-223 1056.5,-223 1145.5,-223 1145.5,-223 1151.5,-223 1157.5,-229 1157.5,-235 1157.5,-235 1157.5,-294 1157.5,-294 1157.5,-300 1151.5,-306 1145.5,-306\"/>\n<text text-anchor=\"start\" x=\"1052.5\" y=\"-290.8\" font-family=\"Helvetica,sans-Serif\" font-size=\"14.00\">FastingBS ≤ 0.5</text>\n<text text-anchor=\"start\" x=\"1065.5\" y=\"-275.8\" font-family=\"Helvetica,sans-Serif\" font-size=\"14.00\">gini = 0.428</text>\n<text text-anchor=\"start\" x=\"1060\" y=\"-260.8\" font-family=\"Helvetica,sans-Serif\" font-size=\"14.00\">samples = 29</text>\n<text text-anchor=\"start\" x=\"1058\" y=\"-245.8\" font-family=\"Helvetica,sans-Serif\" font-size=\"14.00\">value = [9, 20]</text>\n<text text-anchor=\"start\" x=\"1073.5\" y=\"-230.8\" font-family=\"Helvetica,sans-Serif\" font-size=\"14.00\">class = 1</text>\n</g>\n<!-- 16&#45;&gt;17 -->\n<g id=\"edge17\" class=\"edge\">\n<title>16&#45;&gt;17</title>\n<path fill=\"none\" stroke=\"black\" d=\"M1101,-341.91C1101,-333.65 1101,-324.86 1101,-316.3\"/>\n<polygon fill=\"black\" stroke=\"black\" points=\"1104.5,-316.02 1101,-306.02 1097.5,-316.02 1104.5,-316.02\"/>\n</g>\n<!-- 22 -->\n<g id=\"node23\" class=\"node\">\n<title>22</title>\n<path fill=\"#e99254\" stroke=\"black\" d=\"M1373,-306C1373,-306 1253,-306 1253,-306 1247,-306 1241,-300 1241,-294 1241,-294 1241,-235 1241,-235 1241,-229 1247,-223 1253,-223 1253,-223 1373,-223 1373,-223 1379,-223 1385,-229 1385,-235 1385,-235 1385,-294 1385,-294 1385,-300 1379,-306 1373,-306\"/>\n<text text-anchor=\"start\" x=\"1249\" y=\"-290.8\" font-family=\"Helvetica,sans-Serif\" font-size=\"14.00\">ExerciseAngina ≤ 0.5</text>\n<text text-anchor=\"start\" x=\"1281\" y=\"-275.8\" font-family=\"Helvetica,sans-Serif\" font-size=\"14.00\">gini = 0.21</text>\n<text text-anchor=\"start\" x=\"1268\" y=\"-260.8\" font-family=\"Helvetica,sans-Serif\" font-size=\"14.00\">samples = 260</text>\n<text text-anchor=\"start\" x=\"1262.5\" y=\"-245.8\" font-family=\"Helvetica,sans-Serif\" font-size=\"14.00\">value = [229, 31]</text>\n<text text-anchor=\"start\" x=\"1285.5\" y=\"-230.8\" font-family=\"Helvetica,sans-Serif\" font-size=\"14.00\">class = 0</text>\n</g>\n<!-- 16&#45;&gt;22 -->\n<g id=\"edge22\" class=\"edge\">\n<title>16&#45;&gt;22</title>\n<path fill=\"none\" stroke=\"black\" d=\"M1164.03,-347.71C1185.37,-335.94 1209.5,-322.62 1232.03,-310.19\"/>\n<polygon fill=\"black\" stroke=\"black\" points=\"1233.84,-313.18 1240.91,-305.29 1230.46,-307.06 1233.84,-313.18\"/>\n</g>\n<!-- 18 -->\n<g id=\"node19\" class=\"node\">\n<title>18</title>\n<path fill=\"#fcf1e9\" stroke=\"black\" d=\"M1082.5,-187C1082.5,-187 995.5,-187 995.5,-187 989.5,-187 983.5,-181 983.5,-175 983.5,-175 983.5,-116 983.5,-116 983.5,-110 989.5,-104 995.5,-104 995.5,-104 1082.5,-104 1082.5,-104 1088.5,-104 1094.5,-110 1094.5,-116 1094.5,-116 1094.5,-175 1094.5,-175 1094.5,-181 1088.5,-187 1082.5,-187\"/>\n<text text-anchor=\"start\" x=\"991.5\" y=\"-171.8\" font-family=\"Helvetica,sans-Serif\" font-size=\"14.00\">MaxHR ≤ 102.5</text>\n<text text-anchor=\"start\" x=\"1003.5\" y=\"-156.8\" font-family=\"Helvetica,sans-Serif\" font-size=\"14.00\">gini = 0.498</text>\n<text text-anchor=\"start\" x=\"998\" y=\"-141.8\" font-family=\"Helvetica,sans-Serif\" font-size=\"14.00\">samples = 17</text>\n<text text-anchor=\"start\" x=\"999.5\" y=\"-126.8\" font-family=\"Helvetica,sans-Serif\" font-size=\"14.00\">value = [9, 8]</text>\n<text text-anchor=\"start\" x=\"1011.5\" y=\"-111.8\" font-family=\"Helvetica,sans-Serif\" font-size=\"14.00\">class = 0</text>\n</g>\n<!-- 17&#45;&gt;18 -->\n<g id=\"edge18\" class=\"edge\">\n<title>17&#45;&gt;18</title>\n<path fill=\"none\" stroke=\"black\" d=\"M1079.49,-222.91C1074.87,-214.2 1069.95,-204.9 1065.17,-195.89\"/>\n<polygon fill=\"black\" stroke=\"black\" points=\"1068.25,-194.22 1060.47,-187.02 1062.06,-197.5 1068.25,-194.22\"/>\n</g>\n<!-- 21 -->\n<g id=\"node22\" class=\"node\">\n<title>21</title>\n<path fill=\"#399de5\" stroke=\"black\" d=\"M1203,-179.5C1203,-179.5 1125,-179.5 1125,-179.5 1119,-179.5 1113,-173.5 1113,-167.5 1113,-167.5 1113,-123.5 1113,-123.5 1113,-117.5 1119,-111.5 1125,-111.5 1125,-111.5 1203,-111.5 1203,-111.5 1209,-111.5 1215,-117.5 1215,-123.5 1215,-123.5 1215,-167.5 1215,-167.5 1215,-173.5 1209,-179.5 1203,-179.5\"/>\n<text text-anchor=\"start\" x=\"1136\" y=\"-164.3\" font-family=\"Helvetica,sans-Serif\" font-size=\"14.00\">gini = 0.0</text>\n<text text-anchor=\"start\" x=\"1123\" y=\"-149.3\" font-family=\"Helvetica,sans-Serif\" font-size=\"14.00\">samples = 12</text>\n<text text-anchor=\"start\" x=\"1121\" y=\"-134.3\" font-family=\"Helvetica,sans-Serif\" font-size=\"14.00\">value = [0, 12]</text>\n<text text-anchor=\"start\" x=\"1136.5\" y=\"-119.3\" font-family=\"Helvetica,sans-Serif\" font-size=\"14.00\">class = 1</text>\n</g>\n<!-- 17&#45;&gt;21 -->\n<g id=\"edge21\" class=\"edge\">\n<title>17&#45;&gt;21</title>\n<path fill=\"none\" stroke=\"black\" d=\"M1122.86,-222.91C1128.8,-211.87 1135.25,-199.9 1141.24,-188.77\"/>\n<polygon fill=\"black\" stroke=\"black\" points=\"1144.48,-190.13 1146.14,-179.67 1138.32,-186.81 1144.48,-190.13\"/>\n</g>\n<!-- 19 -->\n<g id=\"node20\" class=\"node\">\n<title>19</title>\n<path fill=\"#399de5\" stroke=\"black\" d=\"M1054.5,-68C1054.5,-68 983.5,-68 983.5,-68 977.5,-68 971.5,-62 971.5,-56 971.5,-56 971.5,-12 971.5,-12 971.5,-6 977.5,0 983.5,0 983.5,0 1054.5,0 1054.5,0 1060.5,0 1066.5,-6 1066.5,-12 1066.5,-12 1066.5,-56 1066.5,-56 1066.5,-62 1060.5,-68 1054.5,-68\"/>\n<text text-anchor=\"start\" x=\"991\" y=\"-52.8\" font-family=\"Helvetica,sans-Serif\" font-size=\"14.00\">gini = 0.0</text>\n<text text-anchor=\"start\" x=\"981.5\" y=\"-37.8\" font-family=\"Helvetica,sans-Serif\" font-size=\"14.00\">samples = 3</text>\n<text text-anchor=\"start\" x=\"979.5\" y=\"-22.8\" font-family=\"Helvetica,sans-Serif\" font-size=\"14.00\">value = [0, 3]</text>\n<text text-anchor=\"start\" x=\"991.5\" y=\"-7.8\" font-family=\"Helvetica,sans-Serif\" font-size=\"14.00\">class = 1</text>\n</g>\n<!-- 18&#45;&gt;19 -->\n<g id=\"edge19\" class=\"edge\">\n<title>18&#45;&gt;19</title>\n<path fill=\"none\" stroke=\"black\" d=\"M1031.55,-103.73C1030.04,-95.43 1028.44,-86.67 1026.91,-78.28\"/>\n<polygon fill=\"black\" stroke=\"black\" points=\"1030.32,-77.51 1025.08,-68.3 1023.44,-78.77 1030.32,-77.51\"/>\n</g>\n<!-- 20 -->\n<g id=\"node21\" class=\"node\">\n<title>20</title>\n<path fill=\"#f3c7a7\" stroke=\"black\" d=\"M1171,-68C1171,-68 1097,-68 1097,-68 1091,-68 1085,-62 1085,-56 1085,-56 1085,-12 1085,-12 1085,-6 1091,0 1097,0 1097,0 1171,0 1171,0 1177,0 1183,-6 1183,-12 1183,-12 1183,-56 1183,-56 1183,-62 1177,-68 1171,-68\"/>\n<text text-anchor=\"start\" x=\"1098.5\" y=\"-52.8\" font-family=\"Helvetica,sans-Serif\" font-size=\"14.00\">gini = 0.459</text>\n<text text-anchor=\"start\" x=\"1093\" y=\"-37.8\" font-family=\"Helvetica,sans-Serif\" font-size=\"14.00\">samples = 14</text>\n<text text-anchor=\"start\" x=\"1094.5\" y=\"-22.8\" font-family=\"Helvetica,sans-Serif\" font-size=\"14.00\">value = [9, 5]</text>\n<text text-anchor=\"start\" x=\"1106.5\" y=\"-7.8\" font-family=\"Helvetica,sans-Serif\" font-size=\"14.00\">class = 0</text>\n</g>\n<!-- 18&#45;&gt;20 -->\n<g id=\"edge20\" class=\"edge\">\n<title>18&#45;&gt;20</title>\n<path fill=\"none\" stroke=\"black\" d=\"M1074.37,-103.73C1082.21,-94.7 1090.51,-85.12 1098.36,-76.08\"/>\n<polygon fill=\"black\" stroke=\"black\" points=\"1101.2,-78.15 1105.11,-68.3 1095.91,-73.56 1101.2,-78.15\"/>\n</g>\n<!-- 23 -->\n<g id=\"node24\" class=\"node\">\n<title>23</title>\n<path fill=\"#e78a48\" stroke=\"black\" d=\"M1359.5,-187C1359.5,-187 1266.5,-187 1266.5,-187 1260.5,-187 1254.5,-181 1254.5,-175 1254.5,-175 1254.5,-116 1254.5,-116 1254.5,-110 1260.5,-104 1266.5,-104 1266.5,-104 1359.5,-104 1359.5,-104 1365.5,-104 1371.5,-110 1371.5,-116 1371.5,-116 1371.5,-175 1371.5,-175 1371.5,-181 1365.5,-187 1359.5,-187\"/>\n<text text-anchor=\"start\" x=\"1270.5\" y=\"-171.8\" font-family=\"Helvetica,sans-Serif\" font-size=\"14.00\">Oldpeak ≤ 2.4</text>\n<text text-anchor=\"start\" x=\"1281\" y=\"-156.8\" font-family=\"Helvetica,sans-Serif\" font-size=\"14.00\">gini = 0.13</text>\n<text text-anchor=\"start\" x=\"1268\" y=\"-141.8\" font-family=\"Helvetica,sans-Serif\" font-size=\"14.00\">samples = 229</text>\n<text text-anchor=\"start\" x=\"1262.5\" y=\"-126.8\" font-family=\"Helvetica,sans-Serif\" font-size=\"14.00\">value = [213, 16]</text>\n<text text-anchor=\"start\" x=\"1285.5\" y=\"-111.8\" font-family=\"Helvetica,sans-Serif\" font-size=\"14.00\">class = 0</text>\n</g>\n<!-- 22&#45;&gt;23 -->\n<g id=\"edge23\" class=\"edge\">\n<title>22&#45;&gt;23</title>\n<path fill=\"none\" stroke=\"black\" d=\"M1313,-222.91C1313,-214.65 1313,-205.86 1313,-197.3\"/>\n<polygon fill=\"black\" stroke=\"black\" points=\"1316.5,-197.02 1313,-187.02 1309.5,-197.02 1316.5,-197.02\"/>\n</g>\n<!-- 26 -->\n<g id=\"node27\" class=\"node\">\n<title>26</title>\n<path fill=\"#fdf7f3\" stroke=\"black\" d=\"M1560,-187C1560,-187 1442,-187 1442,-187 1436,-187 1430,-181 1430,-175 1430,-175 1430,-116 1430,-116 1430,-110 1436,-104 1442,-104 1442,-104 1560,-104 1560,-104 1566,-104 1572,-110 1572,-116 1572,-116 1572,-175 1572,-175 1572,-181 1566,-187 1560,-187\"/>\n<text text-anchor=\"start\" x=\"1438\" y=\"-171.8\" font-family=\"Helvetica,sans-Serif\" font-size=\"14.00\">ChestPainType ≤ 0.5</text>\n<text text-anchor=\"start\" x=\"1465.5\" y=\"-156.8\" font-family=\"Helvetica,sans-Serif\" font-size=\"14.00\">gini = 0.499</text>\n<text text-anchor=\"start\" x=\"1460\" y=\"-141.8\" font-family=\"Helvetica,sans-Serif\" font-size=\"14.00\">samples = 31</text>\n<text text-anchor=\"start\" x=\"1454\" y=\"-126.8\" font-family=\"Helvetica,sans-Serif\" font-size=\"14.00\">value = [16, 15]</text>\n<text text-anchor=\"start\" x=\"1473.5\" y=\"-111.8\" font-family=\"Helvetica,sans-Serif\" font-size=\"14.00\">class = 0</text>\n</g>\n<!-- 22&#45;&gt;26 -->\n<g id=\"edge26\" class=\"edge\">\n<title>22&#45;&gt;26</title>\n<path fill=\"none\" stroke=\"black\" d=\"M1378.23,-222.91C1393.97,-213.11 1410.92,-202.56 1427.03,-192.53\"/>\n<polygon fill=\"black\" stroke=\"black\" points=\"1429.25,-195.28 1435.89,-187.02 1425.55,-189.33 1429.25,-195.28\"/>\n</g>\n<!-- 24 -->\n<g id=\"node25\" class=\"node\">\n<title>24</title>\n<path fill=\"#e78946\" stroke=\"black\" d=\"M1306.5,-68C1306.5,-68 1213.5,-68 1213.5,-68 1207.5,-68 1201.5,-62 1201.5,-56 1201.5,-56 1201.5,-12 1201.5,-12 1201.5,-6 1207.5,0 1213.5,0 1213.5,0 1306.5,0 1306.5,0 1312.5,0 1318.5,-6 1318.5,-12 1318.5,-12 1318.5,-56 1318.5,-56 1318.5,-62 1312.5,-68 1306.5,-68\"/>\n<text text-anchor=\"start\" x=\"1224.5\" y=\"-52.8\" font-family=\"Helvetica,sans-Serif\" font-size=\"14.00\">gini = 0.116</text>\n<text text-anchor=\"start\" x=\"1215\" y=\"-37.8\" font-family=\"Helvetica,sans-Serif\" font-size=\"14.00\">samples = 227</text>\n<text text-anchor=\"start\" x=\"1209.5\" y=\"-22.8\" font-family=\"Helvetica,sans-Serif\" font-size=\"14.00\">value = [213, 14]</text>\n<text text-anchor=\"start\" x=\"1232.5\" y=\"-7.8\" font-family=\"Helvetica,sans-Serif\" font-size=\"14.00\">class = 0</text>\n</g>\n<!-- 23&#45;&gt;24 -->\n<g id=\"edge24\" class=\"edge\">\n<title>23&#45;&gt;24</title>\n<path fill=\"none\" stroke=\"black\" d=\"M1293.26,-103.73C1289.11,-95.15 1284.73,-86.09 1280.55,-77.46\"/>\n<polygon fill=\"black\" stroke=\"black\" points=\"1283.62,-75.78 1276.12,-68.3 1277.32,-78.83 1283.62,-75.78\"/>\n</g>\n<!-- 25 -->\n<g id=\"node26\" class=\"node\">\n<title>25</title>\n<path fill=\"#399de5\" stroke=\"black\" d=\"M1419.5,-68C1419.5,-68 1348.5,-68 1348.5,-68 1342.5,-68 1336.5,-62 1336.5,-56 1336.5,-56 1336.5,-12 1336.5,-12 1336.5,-6 1342.5,0 1348.5,0 1348.5,0 1419.5,0 1419.5,0 1425.5,0 1431.5,-6 1431.5,-12 1431.5,-12 1431.5,-56 1431.5,-56 1431.5,-62 1425.5,-68 1419.5,-68\"/>\n<text text-anchor=\"start\" x=\"1356\" y=\"-52.8\" font-family=\"Helvetica,sans-Serif\" font-size=\"14.00\">gini = 0.0</text>\n<text text-anchor=\"start\" x=\"1346.5\" y=\"-37.8\" font-family=\"Helvetica,sans-Serif\" font-size=\"14.00\">samples = 2</text>\n<text text-anchor=\"start\" x=\"1344.5\" y=\"-22.8\" font-family=\"Helvetica,sans-Serif\" font-size=\"14.00\">value = [0, 2]</text>\n<text text-anchor=\"start\" x=\"1356.5\" y=\"-7.8\" font-family=\"Helvetica,sans-Serif\" font-size=\"14.00\">class = 1</text>\n</g>\n<!-- 23&#45;&gt;25 -->\n<g id=\"edge25\" class=\"edge\">\n<title>23&#45;&gt;25</title>\n<path fill=\"none\" stroke=\"black\" d=\"M1339.44,-103.73C1345.12,-94.97 1351.12,-85.7 1356.83,-76.91\"/>\n<polygon fill=\"black\" stroke=\"black\" points=\"1359.9,-78.59 1362.41,-68.3 1354.03,-74.79 1359.9,-78.59\"/>\n</g>\n<!-- 27 -->\n<g id=\"node28\" class=\"node\">\n<title>27</title>\n<path fill=\"#a3d1f3\" stroke=\"black\" d=\"M1540,-68C1540,-68 1462,-68 1462,-68 1456,-68 1450,-62 1450,-56 1450,-56 1450,-12 1450,-12 1450,-6 1456,0 1462,0 1462,0 1540,0 1540,0 1546,0 1552,-6 1552,-12 1552,-12 1552,-56 1552,-56 1552,-62 1546,-68 1540,-68\"/>\n<text text-anchor=\"start\" x=\"1465.5\" y=\"-52.8\" font-family=\"Helvetica,sans-Serif\" font-size=\"14.00\">gini = 0.454</text>\n<text text-anchor=\"start\" x=\"1460\" y=\"-37.8\" font-family=\"Helvetica,sans-Serif\" font-size=\"14.00\">samples = 23</text>\n<text text-anchor=\"start\" x=\"1458\" y=\"-22.8\" font-family=\"Helvetica,sans-Serif\" font-size=\"14.00\">value = [8, 15]</text>\n<text text-anchor=\"start\" x=\"1473.5\" y=\"-7.8\" font-family=\"Helvetica,sans-Serif\" font-size=\"14.00\">class = 1</text>\n</g>\n<!-- 26&#45;&gt;27 -->\n<g id=\"edge27\" class=\"edge\">\n<title>26&#45;&gt;27</title>\n<path fill=\"none\" stroke=\"black\" d=\"M1501,-103.73C1501,-95.52 1501,-86.86 1501,-78.56\"/>\n<polygon fill=\"black\" stroke=\"black\" points=\"1504.5,-78.3 1501,-68.3 1497.5,-78.3 1504.5,-78.3\"/>\n</g>\n<!-- 28 -->\n<g id=\"node29\" class=\"node\">\n<title>28</title>\n<path fill=\"#e58139\" stroke=\"black\" d=\"M1653.5,-68C1653.5,-68 1582.5,-68 1582.5,-68 1576.5,-68 1570.5,-62 1570.5,-56 1570.5,-56 1570.5,-12 1570.5,-12 1570.5,-6 1576.5,0 1582.5,0 1582.5,0 1653.5,0 1653.5,0 1659.5,0 1665.5,-6 1665.5,-12 1665.5,-12 1665.5,-56 1665.5,-56 1665.5,-62 1659.5,-68 1653.5,-68\"/>\n<text text-anchor=\"start\" x=\"1590\" y=\"-52.8\" font-family=\"Helvetica,sans-Serif\" font-size=\"14.00\">gini = 0.0</text>\n<text text-anchor=\"start\" x=\"1580.5\" y=\"-37.8\" font-family=\"Helvetica,sans-Serif\" font-size=\"14.00\">samples = 8</text>\n<text text-anchor=\"start\" x=\"1578.5\" y=\"-22.8\" font-family=\"Helvetica,sans-Serif\" font-size=\"14.00\">value = [8, 0]</text>\n<text text-anchor=\"start\" x=\"1590.5\" y=\"-7.8\" font-family=\"Helvetica,sans-Serif\" font-size=\"14.00\">class = 0</text>\n</g>\n<!-- 26&#45;&gt;28 -->\n<g id=\"edge28\" class=\"edge\">\n<title>26&#45;&gt;28</title>\n<path fill=\"none\" stroke=\"black\" d=\"M1544.57,-103.73C1554.51,-94.42 1565.06,-84.54 1574.98,-75.26\"/>\n<polygon fill=\"black\" stroke=\"black\" points=\"1577.51,-77.69 1582.42,-68.3 1572.73,-72.58 1577.51,-77.69\"/>\n</g>\n</g>\n</svg>\n",
            "text/plain": [
              "<graphviz.sources.Source at 0x7fd443b69e50>"
            ]
          },
          "metadata": {},
          "execution_count": 110
        }
      ]
    },
    {
      "cell_type": "code",
      "source": [
        "# create confusion matrix for decision tree above using sklearn\n",
        "# start by making predictions using the x test set\n",
        "treePredictions = tree.predict(x_test)\n",
        "\n",
        "# create confusion matrix using test and predicted\n",
        "treeConfusion = confusion_matrix(y_test, treePredictions)\n",
        "# print(treeConfusion) -- prints bare confusion matrix\n",
        "\n",
        "# use metrics.ConfusionMatrixDisplay function to create labeled display\n",
        "treeConfusion = metrics.ConfusionMatrixDisplay(confusion_matrix = treeConfusion, display_labels = ['0 (False)', '1 (True)'])\n",
        "treeConfusion.plot()\n",
        "plt.show()"
      ],
      "metadata": {
        "colab": {
          "base_uri": "https://localhost:8080/",
          "height": 279
        },
        "id": "3s9eSmsOnNtd",
        "outputId": "4252b0e5-352e-4bcf-f95e-8dd8152f5a28"
      },
      "execution_count": 111,
      "outputs": [
        {
          "output_type": "display_data",
          "data": {
            "text/plain": [
              "<Figure size 432x288 with 2 Axes>"
            ],
            "image/png": "[encoded data removed]"
          },
          "metadata": {
            "needs_background": "light"
          }
        }
      ]
    },
    {
      "cell_type": "code",
      "source": [
        "# calculate metrics\n",
        "# accuracy using accuracy method in metrics\n",
        "treeAccuracy = metrics.accuracy_score(y_test, treePredictions)\n",
        "\n",
        "# precision using method in metrics\n",
        "treePrecision = metrics.precision_score(y_test, treePredictions)\n",
        "\n",
        "# recall using method in metrics\n",
        "treeRecall = metrics.recall_score(y_test, treePredictions)\n",
        "\n",
        "# f-measure using method in metrics\n",
        "treeFmeasure = metrics.f1_score(y_test, treePredictions)\n",
        "\n",
        "# create table of metrics using pandas dataframes and display\n",
        "treeMetricsTable = pd.DataFrame({\n",
        "    'Accuracy': [treeAccuracy],\n",
        "    'Precision': [treePrecision],\n",
        "    'Recall': [treeRecall],\n",
        "    'F1 score': [treeFmeasure],\n",
        "})\n",
        "print(\"Metrics for Decision Tree Classifier: \\n\", treeMetricsTable)"
      ],
      "metadata": {
        "colab": {
          "base_uri": "https://localhost:8080/"
        },
        "id": "Eh7q9XPysqOq",
        "outputId": "19ae2c7a-172b-4fe3-cddf-29626fc8feb3"
      },
      "execution_count": 112,
      "outputs": [
        {
          "output_type": "stream",
          "name": "stdout",
          "text": [
            "Metrics for Decision Tree Classifier: \n",
            "    Accuracy  Precision    Recall  F1 score\n",
            "0  0.869565   0.886364  0.886364  0.886364\n"
          ]
        }
      ]
    },
    {
      "cell_type": "code",
      "source": [
        "# CREATE K-NEAREST NEIGHBORS\n",
        "# check accuracies of different k values for knn\n",
        "for k in range(1,20):\n",
        "  neighborsTests = KNeighborsClassifier(n_neighbors=k)\n",
        "\n",
        "  neighborsTests.fit(x_train, y_train)\n",
        "  knnTestPredictions = neighborsTests.predict(x_test)\n",
        "\n",
        "  print(f\"{k=} :{metrics.accuracy_score(y_test, knnTestPredictions)}\")\n",
        "\n",
        "  # k=13 gives best accuracy so we will use this for our k value\n",
        "  # create new knn model using same process as above\n",
        "  neighbors = KNeighborsClassifier(n_neighbors=13)\n",
        "\n",
        "  neighbors.fit(x_train, y_train)\n",
        "  knnPredictions = neighbors.predict(x_test)\n"
      ],
      "metadata": {
        "colab": {
          "base_uri": "https://localhost:8080/"
        },
        "id": "wyAQVZrH26Zc",
        "outputId": "5db4df1c-617e-4654-cf92-2cacd8a560b1"
      },
      "execution_count": 78,
      "outputs": [
        {
          "output_type": "stream",
          "name": "stdout",
          "text": [
            "k=1 :0.6826086956521739\n",
            "k=2 :0.6304347826086957\n",
            "k=3 :0.7086956521739131\n",
            "k=4 :0.7086956521739131\n",
            "k=5 :0.717391304347826\n",
            "k=6 :0.691304347826087\n",
            "k=7 :0.7086956521739131\n",
            "k=8 :0.6869565217391305\n",
            "k=9 :0.7\n",
            "k=10 :0.6869565217391305\n",
            "k=11 :0.7086956521739131\n",
            "k=12 :0.6956521739130435\n",
            "k=13 :0.717391304347826\n",
            "k=14 :0.6826086956521739\n",
            "k=15 :0.6782608695652174\n",
            "k=16 :0.6869565217391305\n",
            "k=17 :0.691304347826087\n",
            "k=18 :0.6695652173913044\n",
            "k=19 :0.6869565217391305\n"
          ]
        }
      ]
    },
    {
      "cell_type": "code",
      "source": [
        "# create confusion matrix for KNN using test and predicted\n",
        "knnConfusion = confusion_matrix(y_test, knnPredictions)\n",
        "\n",
        "# use metrics.ConfusionMatrixDisplay function to create labeled display\n",
        "knnConfusion = metrics.ConfusionMatrixDisplay(confusion_matrix = knnConfusion, display_labels = ['0 (False)', '1 (True)'])\n",
        "knnConfusion.plot()\n",
        "plt.show()"
      ],
      "metadata": {
        "colab": {
          "base_uri": "https://localhost:8080/",
          "height": 279
        },
        "id": "e56HUKXmqY9x",
        "outputId": "626ecd35-a80e-49d7-c950-fb36661acb01"
      },
      "execution_count": 65,
      "outputs": [
        {
          "output_type": "display_data",
          "data": {
            "text/plain": [
              "<Figure size 432x288 with 2 Axes>"
            ],
            "image/png": "[encoded data removed]"
          },
          "metadata": {
            "needs_background": "light"
          }
        }
      ]
    },
    {
      "cell_type": "code",
      "source": [
        "# calculate metrics\n",
        "# accuracy using accuracy method in metrics\n",
        "knnAccuracy = metrics.accuracy_score(y_test, knnPredictions)\n",
        "\n",
        "# precision using method in metrics\n",
        "knnPrecision = metrics.precision_score(y_test, knnPredictions)\n",
        "\n",
        "# recall using method in metrics\n",
        "knnRecall = metrics.recall_score(y_test, knnPredictions)\n",
        "\n",
        "# f-measure using method in metrics\n",
        "knnFmeasure = metrics.f1_score(y_test, knnPredictions)\n",
        "\n",
        "# create table of metrics using pandas dataframes and display\n",
        "knnMetricsTable = pd.DataFrame({\n",
        "    'Accuracy': [knnAccuracy],\n",
        "    'Precision': [knnPrecision],\n",
        "    'Recall': [knnRecall],\n",
        "    'F1 score': [knnFmeasure],\n",
        "})\n",
        "print(\"Metrics for KNN Classifier: \\n\", knnMetricsTable)"
      ],
      "metadata": {
        "colab": {
          "base_uri": "https://localhost:8080/"
        },
        "id": "AcQtQn6IsEOT",
        "outputId": "5e5ff8b6-d8e8-464d-8f79-4ed355dd107a"
      },
      "execution_count": 66,
      "outputs": [
        {
          "output_type": "stream",
          "name": "stdout",
          "text": [
            "Metrics for KNN Classifier: \n",
            "    Accuracy  Precision    Recall  F1 score\n",
            "0  0.717391      0.768  0.727273  0.747082\n"
          ]
        }
      ]
    },
    {
      "cell_type": "code",
      "source": [
        "# CREATE RANDOM FOREST \n",
        "# check accuracies of different numbers of trees\n",
        "# for k in range(1,100):\n",
        "#   forestTests = RandomForestClassifier(n_estimators=k)\n",
        "\n",
        "#   forestTests.fit(x_train, y_train)\n",
        "#   forestTestPredictions = forestTests.predict(x_test)\n",
        "\n",
        "#   print(f\"{k=} :{metrics.accuracy_score(y_test, forestTestPredictions)}\")\n",
        "\n",
        "# around 50 trees normally gives best accuracy - ~90%\n",
        "forest = RandomForestClassifier(n_estimators=50)\n",
        "# fit the model with training data\n",
        "forest.fit(x_train, y_train)\n",
        "# predict \n",
        "forestPredictions = forest.predict(x_test)"
      ],
      "metadata": {
        "id": "3mm3qOTjqXJs"
      },
      "execution_count": 113,
      "outputs": []
    },
    {
      "cell_type": "code",
      "source": [
        "# create confusion matrix for random forest using test and predicted\n",
        "forestConfusion = confusion_matrix(y_test, forestPredictions)\n",
        "\n",
        "# use metrics.ConfusionMatrixDisplay function to create labeled display\n",
        "forestConfusion = metrics.ConfusionMatrixDisplay(confusion_matrix = forestConfusion, display_labels = ['0 (False)', '1 (True)'])\n",
        "forestConfusion.plot()\n",
        "plt.show()"
      ],
      "metadata": {
        "colab": {
          "base_uri": "https://localhost:8080/",
          "height": 279
        },
        "id": "dG0qiSJ03aNh",
        "outputId": "8f709f95-52a3-4eac-cbc6-a900f1e9700a"
      },
      "execution_count": 28,
      "outputs": [
        {
          "output_type": "display_data",
          "data": {
            "text/plain": [
              "<Figure size 432x288 with 2 Axes>"
            ],
            "image/png": "[encoded data removed]"
          },
          "metadata": {
            "needs_background": "light"
          }
        }
      ]
    },
    {
      "cell_type": "code",
      "source": [
        "# calculate metrics\n",
        "# accuracy using accuracy method in metrics\n",
        "forestAccuracy = metrics.accuracy_score(y_test, forestPredictions)\n",
        "\n",
        "# precision using method in metrics\n",
        "forestPrecision = metrics.precision_score(y_test, forestPredictions)\n",
        "\n",
        "# recall using method in metrics\n",
        "forestRecall = metrics.recall_score(y_test, forestPredictions)\n",
        "\n",
        "# f-measure using method in metrics\n",
        "forestFmeasure = metrics.f1_score(y_test, forestPredictions)\n",
        "\n",
        "# create table of metrics using pandas dataframes and display\n",
        "forestMetricsTable = pd.DataFrame({\n",
        "    'Accuracy': [forestAccuracy],\n",
        "    'Precision': [forestPrecision],\n",
        "    'Recall': [forestRecall],\n",
        "    'F1 score': [forestFmeasure],\n",
        "})\n",
        "print(\"Metrics for Random Forest Classifier: \\n\", forestMetricsTable)"
      ],
      "metadata": {
        "colab": {
          "base_uri": "https://localhost:8080/"
        },
        "id": "TPW6SGNT31Y6",
        "outputId": "6099a97e-ea56-484c-c72f-8350695742f9"
      },
      "execution_count": 68,
      "outputs": [
        {
          "output_type": "stream",
          "name": "stdout",
          "text": [
            "Metrics for Random Forest Classifier: \n",
            "    Accuracy  Precision    Recall  F1 score\n",
            "0  0.882609   0.913386  0.878788  0.895753\n"
          ]
        }
      ]
    },
    {
      "cell_type": "code",
      "source": [
        "# create metrics table for all classifiers\n",
        "metricsTable = pd.DataFrame({\n",
        "    'Accuracy': [knnAccuracy, treeAccuracy, forestAccuracy],\n",
        "    'Precision': [knnPrecision, treePrecision, forestPrecision],\n",
        "    'Recall': [knnRecall, treeRecall, forestRecall],\n",
        "    'F1 score': [knnFmeasure, treeFmeasure, forestFmeasure],\n",
        "}, index=['k-Nearest Neighbors', 'Decision Tree', 'Random Forest'])\n",
        "print(\"Metrics for all classifiers: \\n\", metricsTable)"
      ],
      "metadata": {
        "colab": {
          "base_uri": "https://localhost:8080/"
        },
        "id": "HPPimApMIETh",
        "outputId": "f19cf037-35a7-4495-da93-20d8854c81cf"
      },
      "execution_count": 69,
      "outputs": [
        {
          "output_type": "stream",
          "name": "stdout",
          "text": [
            "Metrics for all classifiers: \n",
            "                      Accuracy  Precision    Recall  F1 score\n",
            "k-Nearest Neighbors  0.717391   0.768000  0.727273  0.747082\n",
            "Decision Tree        0.869565   0.886364  0.886364  0.886364\n",
            "Random Forest        0.882609   0.913386  0.878788  0.895753\n"
          ]
        }
      ]
    },
    {
      "cell_type": "code",
      "source": [
        "# create table of parameters and print it\n",
        "parameterTable = pd.DataFrame({\n",
        "    'Dataset size': ['(918,13)'],\n",
        "    'Features': [11],\n",
        "    'Train/test split': ['75%/25%'],\n",
        "    'x_train size': ['(688,11)'],\n",
        "    'x_test size': ['(230,11)'],\n",
        "    'y_train size': ['(688,)'],\n",
        "    'y_test size': ['(230,)'],\n",
        "    'k for KNN': [13],\n",
        "    'Tree depth': [4],\n",
        "    'Trees in forest': [50]\n",
        "})\n",
        "print(\"Parameters used across models:\\n\", parameterTable)"
      ],
      "metadata": {
        "colab": {
          "base_uri": "https://localhost:8080/"
        },
        "id": "eNuF7YB8LxF3",
        "outputId": "ec40a6f8-ba14-4534-dade-733822793e50"
      },
      "execution_count": 80,
      "outputs": [
        {
          "output_type": "stream",
          "name": "stdout",
          "text": [
            "Parameters used across models:\n",
            "   Dataset size  Features Train/test split x_train size x_test size  \\\n",
            "0     (918,13)        11          75%/25%     (688,11)    (230,11)   \n",
            "\n",
            "  y_train size y_test size  k for KNN  Tree depth  Trees in forest  \n",
            "0       (688,)      (230,)         13           4               50  \n"
          ]
        }
      ]
    }
  ]
}